{
  "nbformat": 4,
  "nbformat_minor": 0,
  "metadata": {
    "colab": {
      "provenance": [],
      "gpuType": "T4"
    },
    "kernelspec": {
      "name": "python3",
      "display_name": "Python 3"
    },
    "language_info": {
      "name": "python"
    },
    "accelerator": "GPU"
  },
  "cells": [
    {
      "cell_type": "code",
      "execution_count": 14,
      "metadata": {
        "colab": {
          "base_uri": "https://localhost:8080/"
        },
        "id": "rmSMSnBG4d-g",
        "outputId": "560c080b-c3b7-453a-d99d-4827e777be51"
      },
      "outputs": [
        {
          "output_type": "stream",
          "name": "stdout",
          "text": [
            "            HomePriceIndex  InterestRate  UnemploymentRate  \\\n",
            "DATE                                                         \n",
            "1987-01-31          63.965          9.08               6.6   \n",
            "1987-02-28          64.425          9.07               6.6   \n",
            "1987-03-31          64.735          9.03               6.6   \n",
            "1987-04-30          65.132         10.37               6.3   \n",
            "1987-05-31          65.564         10.70               6.3   \n",
            "\n",
            "            MedianHouseholdIncome  HousingStarts    CPI  \n",
            "DATE                                                     \n",
            "1987-01-31                  60760         1774.0  111.4  \n",
            "1987-02-28                  60760         1784.0  111.8  \n",
            "1987-03-31                  60760         1726.0  112.2  \n",
            "1987-04-30                  60760         1614.0  112.7  \n",
            "1987-05-31                  60760         1628.0  113.0  \n"
          ]
        }
      ],
      "source": [
        "import pandas as pd\n",
        "import os\n",
        "import joblib\n",
        "import shutil\n",
        "from sklearn.model_selection import train_test_split\n",
        "from sklearn.linear_model import LinearRegression\n",
        "from sklearn.ensemble import RandomForestRegressor\n",
        "from sklearn.metrics import mean_squared_error\n",
        "import matplotlib.pyplot as plt\n",
        "\n",
        "# Load the data from CSV files\n",
        "home_price_index = pd.read_csv('CSUSHPISA.csv', parse_dates=['DATE'], index_col='DATE')\n",
        "interest_rate = pd.read_csv('MORTGAGE30US.csv', parse_dates=['DATE'], index_col='DATE')\n",
        "unemployment_rate = pd.read_csv('UNRATE.csv', parse_dates=['DATE'], index_col='DATE')\n",
        "income = pd.read_csv('MEHOINUSA672N.csv', parse_dates=['DATE'], index_col='DATE')\n",
        "housing_starts = pd.read_csv('HOUST.csv', parse_dates=['DATE'], index_col='DATE')\n",
        "cpi = pd.read_csv('CPIAUCSL.csv', parse_dates=['DATE'], index_col='DATE')\n",
        "\n",
        "# Standardize date range to the common range across all datasets\n",
        "start_date = max(home_price_index.index.min(), interest_rate.index.min(), unemployment_rate.index.min(), income.index.min(), housing_starts.index.min(), cpi.index.min())\n",
        "end_date = min(home_price_index.index.max(), interest_rate.index.max(), unemployment_rate.index.max(), income.index.max(), housing_starts.index.max(), cpi.index.max())\n",
        "\n",
        "# Resample to monthly frequency and forward-fill, aligning all data to the same date range\n",
        "home_price_index = home_price_index[start_date:end_date].resample('M').ffill()\n",
        "interest_rate = interest_rate[start_date:end_date].resample('M').ffill()\n",
        "unemployment_rate = unemployment_rate[start_date:end_date].resample('M').ffill()\n",
        "income = income[start_date:end_date].resample('M').ffill()\n",
        "housing_starts = housing_starts[start_date:end_date].resample('M').ffill()\n",
        "cpi = cpi[start_date:end_date].resample('M').ffill()\n",
        "\n",
        "# Merge all data into a single DataFrame\n",
        "data = pd.concat([home_price_index, interest_rate, unemployment_rate, income, housing_starts, cpi], axis=1)\n",
        "data.columns = ['HomePriceIndex', 'InterestRate', 'UnemploymentRate', 'MedianHouseholdIncome', 'HousingStarts', 'CPI']\n",
        "\n",
        "# Drop any remaining NaN values\n",
        "data.dropna(inplace=True)\n",
        "\n",
        "# Check the data\n",
        "print(data.head())\n",
        "\n",
        "# Save the data to a CSV file\n",
        "data.to_csv('home_price_data.csv')"
      ]
    },
    {
      "cell_type": "code",
      "source": [
        "data.shape"
      ],
      "metadata": {
        "colab": {
          "base_uri": "https://localhost:8080/"
        },
        "id": "wjuGQI-x4-q5",
        "outputId": "16eb3ae2-6a50-4c79-cac7-e33103e5d268"
      },
      "execution_count": 15,
      "outputs": [
        {
          "output_type": "execute_result",
          "data": {
            "text/plain": [
              "(420, 6)"
            ]
          },
          "metadata": {},
          "execution_count": 15
        }
      ]
    },
    {
      "cell_type": "code",
      "source": [
        "X = data.drop(columns=['HomePriceIndex'])\n",
        "y = data['HomePriceIndex']\n",
        "X_train, X_test, y_train, y_test = train_test_split(X, y, test_size=0.2, random_state=42)\n",
        "\n",
        "# Linear Regression Model\n",
        "lr_model = LinearRegression()\n",
        "lr_model.fit(X_train, y_train)\n",
        "y_pred_lr = lr_model.predict(X_test)\n",
        "mse_lr = mean_squared_error(y_test, y_pred_lr)\n",
        "print(f'Linear Regression MSE: {mse_lr}')\n",
        "\n",
        "# Random Forest Regressor Model\n",
        "rf_model = RandomForestRegressor(n_estimators=100, random_state=42)\n",
        "rf_model.fit(X_train, y_train)\n",
        "y_pred_rf = rf_model.predict(X_test)\n",
        "mse_rf = mean_squared_error(y_test, y_pred_rf)\n",
        "print(f'Random Forest MSE: {mse_rf}')\n",
        "\n",
        "# Feature importance from Random Forest\n",
        "feature_importance = pd.Series(rf_model.feature_importances_, index=X.columns).sort_values(ascending=False)\n",
        "print(feature_importance)\n",
        "\n",
        "# Plotting feature importance\n",
        "feature_importance.plot(kind='bar')\n",
        "plt.title('Feature Importance from Random Forest')\n",
        "plt.show()\n",
        "\n",
        "# Save models and results\n",
        "joblib.dump(lr_model, 'linear_regression_model.pkl')\n",
        "joblib.dump(rf_model, 'random_forest_model.pkl')\n",
        "feature_importance.to_csv('feature_importance.csv')\n",
        "\n",
        "# Saving the model evaluation results\n",
        "with open('model_evaluation.txt', 'w') as f:\n",
        "    f.write(f'Linear Regression MSE: {mse_lr}\\n')\n",
        "    f.write(f'Random Forest MSE: {mse_rf}\\n')\n",
        "\n",
        "# Creating a directory to store all outputs\n",
        "output_dir = 'home_price_analysis'\n",
        "os.makedirs(output_dir, exist_ok=True)\n",
        "\n",
        "# Moving files to the output directory\n",
        "shutil.move('home_price_data.csv', os.path.join(output_dir, 'home_price_data.csv'))\n",
        "shutil.move('linear_regression_model.pkl', os.path.join(output_dir, 'linear_regression_model.pkl'))\n",
        "shutil.move('random_forest_model.pkl', os.path.join(output_dir, 'random_forest_model.pkl'))\n",
        "shutil.move('feature_importance.csv', os.path.join(output_dir, 'feature_importance.csv'))\n",
        "shutil.move('model_evaluation.txt', os.path.join(output_dir, 'model_evaluation.txt'))\n",
        "\n",
        "# Creating a zip file of the output directory\n",
        "shutil.make_archive(output_dir, 'zip', output_dir)"
      ],
      "metadata": {
        "colab": {
          "base_uri": "https://localhost:8080/",
          "height": 770
        },
        "id": "_LrtoxNz7lVf",
        "outputId": "ced319b5-82c0-44a3-d2e6-9755246387b4"
      },
      "execution_count": 16,
      "outputs": [
        {
          "output_type": "stream",
          "name": "stdout",
          "text": [
            "Linear Regression MSE: 131.8821780317511\n",
            "Random Forest MSE: 2.28557225329289\n",
            "CPI                      0.921755\n",
            "MedianHouseholdIncome    0.061934\n",
            "UnemploymentRate         0.011456\n",
            "InterestRate             0.002570\n",
            "HousingStarts            0.002285\n",
            "dtype: float64\n"
          ]
        },
        {
          "output_type": "display_data",
          "data": {
            "text/plain": [
              "<Figure size 640x480 with 1 Axes>"
            ],
            "image/png": "[encoded data removed]"
          },
          "metadata": {}
        },
        {
          "output_type": "execute_result",
          "data": {
            "text/plain": [
              "'/content/home_price_analysis.zip'"
            ],
            "application/vnd.google.colaboratory.intrinsic+json": {
              "type": "string"
            }
          },
          "metadata": {},
          "execution_count": 16
        }
      ]
    },
    {
      "cell_type": "code",
      "source": [
        "from sklearn.metrics import r2_score\n",
        "\n",
        "# Calculate R-squared for Linear Regression model\n",
        "r2_lr = r2_score(y_test, y_pred_lr)\n",
        "print(f'Linear Regression R-squared: {r2_lr}')\n",
        "\n",
        "# Calculate R-squared for Random Forest model\n",
        "r2_rf = r2_score(y_test, y_pred_rf)\n",
        "print(f'Random Forest R-squared: {r2_rf}')\n"
      ],
      "metadata": {
        "colab": {
          "base_uri": "https://localhost:8080/"
        },
        "id": "Qx1faq-d7oz-",
        "outputId": "ae6ffa58-692e-4251-ed51-6f9e038eee5d"
      },
      "execution_count": 17,
      "outputs": [
        {
          "output_type": "stream",
          "name": "stdout",
          "text": [
            "Linear Regression R-squared: 0.9574597518046982\n",
            "Random Forest R-squared: 0.9992627600455616\n"
          ]
        }
      ]
    },
    {
      "cell_type": "code",
      "source": [],
      "metadata": {
        "id": "xyksPHMC89Dm"
      },
      "execution_count": null,
      "outputs": []
    }
  ]
}